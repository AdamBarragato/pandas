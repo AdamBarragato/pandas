{
 "cells": [
  {
   "cell_type": "markdown",
   "metadata": {},
   "source": [
    "# Module 4 Code Examples"
   ]
  },
  {
   "cell_type": "markdown",
   "metadata": {},
   "source": [
    "## Intro to Visualizations with Matplotlib"
   ]
  },
  {
   "cell_type": "code",
   "execution_count": null,
   "metadata": {},
   "outputs": [],
   "source": [
    "import matplotlib.pyplot as plt\n",
    "import pandas as pd"
   ]
  },
  {
   "cell_type": "code",
   "execution_count": null,
   "metadata": {},
   "outputs": [],
   "source": [
    "datasaurus = pd.read_csv('DatasaurusDozen.tsv',sep='\\t') #instead of being comma separated, the data is tab separated; you can still use the same method to load the data, but just have to specify the separator as sep='\\t'\n",
    "datasaurus\n",
    "datasaurus['dataset'].unique() # lists the unique values in this column - shows that there are 13 different datasets we can plot"
   ]
  },
  {
   "cell_type": "code",
   "execution_count": null,
   "metadata": {},
   "outputs": [],
   "source": [
    "#the syntax for a basic scatterplot is plt.scatter(x,y)\n",
    "plt.scatter(datasaurus['x'][datasaurus['dataset']=='dino'],datasaurus['y'][datasaurus['dataset']=='dino'], color=None) #only selects the x and y columns of the dataframe where the dataset is 'dino'"
   ]
  },
  {
   "cell_type": "markdown",
   "metadata": {},
   "source": [
    "Now, let's look at all of the datasets at the same time -- to do this, we will need to create subplots"
   ]
  },
  {
   "cell_type": "code",
   "execution_count": null,
   "metadata": {},
   "outputs": [],
   "source": [
    "datasets = datasaurus['dataset'].unique().tolist() # converts this to a list that we can iterate over to create plots\n",
    "fig, ax = plt.subplots(nrows=4, ncols=4, sharex=True, sharey=True) #creates a 4x4 grid of subplots; since we set sharex and sharey to true, all plots will have the same scale of their axes\n",
    "axes = ax.flatten() #essentially this converts the 2D 4x4 grid to a 1D index -- instead of referencing the plot at the first row of second column like [1][0] (remember zero indexing), we can now reference it as 4\n",
    "for i, dataset in enumerate(datasets): #iterates over all of the items in the datasets list. Enumerate is used to return both the value from the list as well as its index in the list. The index is used to match the dataset to a respective subplot\n",
    "    ax = axes[i] #selects the proper subplot to add the data to\n",
    "    ax.scatter(datasaurus['x'][datasaurus['dataset']==dataset],datasaurus['y'][datasaurus['dataset']==dataset],s=2) #specifies the data to use for each subplot\n",
    "    ax.set_title(dataset) #sets the title of each subplot\n",
    "fig.tight_layout() #prevents subplots from overlapping\n",
    "pass; #suppresses text output"
   ]
  },
  {
   "cell_type": "markdown",
   "metadata": {},
   "source": [
    "### Visualizing Iris Dataset"
   ]
  },
  {
   "cell_type": "code",
   "execution_count": null,
   "metadata": {},
   "outputs": [],
   "source": [
    "iris_df = pd.read_csv('iris.csv')\n",
    "#simple example\n",
    "fig, ax = plt.subplots()\n",
    "ax.hist(iris_df[\"sepal.length\"])\n",
    "ax.set_xlabel(\"Sepal Length\")\n",
    "ax.set_title('Histogram of Sepal Length')\n",
    "fig.tight_layout()"
   ]
  },
  {
   "cell_type": "code",
   "execution_count": null,
   "metadata": {},
   "outputs": [],
   "source": [
    "# showing histograms of all of the variables\n",
    "cols = iris_df.columns.to_list()[:4] # creating a list of columns without the 'variety' column as we cannot plot this\n",
    "fig, ax = plt.subplots(4, 1, sharex=True, sharey=True)\n",
    "for i,col in enumerate(cols):\n",
    "    ax[i].hist(iris_df[col],bins=25) #specify the number of bins to use to get more detail\n",
    "    ax[i].set_xlabel(iris_df.keys()[i])\n",
    "    fig.suptitle('Histogram of Iris Measures') #set overall title\n",
    "    fig.tight_layout(rect=[0, 0.03, 1, 0.95])\n",
    "pass;"
   ]
  },
  {
   "cell_type": "markdown",
   "metadata": {},
   "source": [
    "Above, we can see that the distributions of many of the factors overlap between species, even though the means differed "
   ]
  },
  {
   "cell_type": "code",
   "execution_count": null,
   "metadata": {},
   "outputs": [],
   "source": [
    "varieties = iris_df['variety'].unique()\n",
    "fig, ax = plt.subplots(3, 4, sharex=True, sharey=True)\n",
    "for i, var in enumerate(varieties):\n",
    "    for j,col in enumerate(cols):\n",
    "        ax[i][j].hist(iris_df[col][iris_df['variety']==var],bins=5) #specify the number of bins to use to get more detail\n",
    "        ax[i][j].set_xlabel(f\"{col}, {var}\",fontsize=6)\n",
    "        fig.suptitle('Histogram of Iris Measures') #set overall title\n",
    "        fig.tight_layout()\n",
    "pass;"
   ]
  },
  {
   "cell_type": "markdown",
   "metadata": {},
   "source": [
    "Box plots can be a helpful resource for identifying outliers \n",
    "\n",
    "These can come from typos, unusual observations, or sensor failures. You will need to decide what to do when you find outliers in your data. Try to understand how valid the data is. Decide whether to include the data for analysis or to drop the data (remember, sometimes the presence of an outlier in and of itself is important to analysis!). In our data, it looks like setosa petal.width has some outliers. Test this out on your own to see what else has outliers!"
   ]
  },
  {
   "cell_type": "code",
   "execution_count": null,
   "metadata": {},
   "outputs": [],
   "source": [
    "labels = [0,0,0]\n",
    "dataGrps = [0,0,0]\n",
    "for i, var in enumerate(varieties): #preparing data to be plotted\n",
    "    labels[i]=var\n",
    "    dataGrps[i]=list(iris_df['petal.width'][iris_df['variety']==var])\n",
    "\n",
    "fig, ax = plt.subplots() \n",
    "ax.boxplot(dataGrps)\n",
    "ax.set_xticklabels(labels)\n",
    "ax.set_title('Boxplot of Petal Width')\n",
    "ax.violinplot(dataGrps, showmedians=True)\n",
    "pass;"
   ]
  },
  {
   "cell_type": "code",
   "execution_count": null,
   "metadata": {},
   "outputs": [],
   "source": []
  }
 ],
 "metadata": {
  "kernelspec": {
   "display_name": "csprimers",
   "language": "python",
   "name": "python3"
  },
  "language_info": {
   "codemirror_mode": {
    "name": "ipython",
    "version": 3
   },
   "file_extension": ".py",
   "mimetype": "text/x-python",
   "name": "python",
   "nbconvert_exporter": "python",
   "pygments_lexer": "ipython3",
   "version": "3.9.19"
  }
 },
 "nbformat": 4,
 "nbformat_minor": 2
}
