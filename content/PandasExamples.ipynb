{
 "cells": [
  {
   "cell_type": "markdown",
   "metadata": {},
   "source": [
    "# Module 4 Code Examples"
   ]
  },
  {
   "cell_type": "markdown",
   "metadata": {},
   "source": [
    "## Intro to Pandas"
   ]
  },
  {
   "cell_type": "code",
   "execution_count": null,
   "metadata": {},
   "outputs": [],
   "source": [
    "import pandas as pd #standard pandas import\n",
    "from IPython.core.interactiveshell import InteractiveShell\n",
    "InteractiveShell.ast_node_interactivity = \"all\""
   ]
  },
  {
   "cell_type": "markdown",
   "metadata": {},
   "source": [
    "Optional settings to change how data is displayed. Here we are essentially saying we want to see all of the data. Changing max_columns to a limit of None is more advisable than changing max_rows...think about if you had millions of rows!"
   ]
  },
  {
   "cell_type": "code",
   "execution_count": null,
   "metadata": {},
   "outputs": [],
   "source": [
    "# pd.options.display.max_columns = None\n",
    "# pd.options.display.max_rows = None"
   ]
  },
  {
   "cell_type": "markdown",
   "metadata": {},
   "source": [
    "Building a DataFrame from scratch"
   ]
  },
  {
   "cell_type": "code",
   "execution_count": null,
   "metadata": {},
   "outputs": [],
   "source": [
    "df = pd.DataFrame({'col1': [1, 2], 'col2': [3, 4]})\n",
    "df\n",
    "#When a dataframe is created, if an index is not specified, a numeric index will be assigned to each row (e.g. 0 and 1 below)"
   ]
  },
  {
   "cell_type": "markdown",
   "metadata": {},
   "source": [
    "A Series is a single column in a dataframe. It can be created very similarly from scratch or by looking a particular column of a dataframe."
   ]
  },
  {
   "cell_type": "code",
   "execution_count": null,
   "metadata": {},
   "outputs": [],
   "source": [
    "pd.Series(data = [1,2,3]) #Created without specifying an index\n",
    "\n",
    "pd.Series(data = [1,2,3],index=['a','b','c']) #Created with a specific index\n",
    "\n",
    "type(df['col1'])"
   ]
  },
  {
   "cell_type": "markdown",
   "metadata": {},
   "source": [
    "Reading in data from a csv file into a DataFrame"
   ]
  },
  {
   "cell_type": "code",
   "execution_count": null,
   "metadata": {},
   "outputs": [],
   "source": [
    "iris_df = pd.read_csv('iris.csv')\n",
    "type(iris_df)"
   ]
  },
  {
   "cell_type": "markdown",
   "metadata": {},
   "source": [
    "### Taking a look at some important attributes"
   ]
  },
  {
   "cell_type": "code",
   "execution_count": null,
   "metadata": {},
   "outputs": [],
   "source": [
    "iris_df.shape # Returns the dimensions of the dataframe as num_rows, num_columns\n",
    "iris_df.columns #Returns the names of all of the columns\n",
    "iris_df.dtypes #Returns what type of datatype is found in each column"
   ]
  },
  {
   "cell_type": "markdown",
   "metadata": {},
   "source": [
    "### Accessing Data"
   ]
  },
  {
   "cell_type": "code",
   "execution_count": null,
   "metadata": {},
   "outputs": [],
   "source": [
    "#By columns\n",
    "iris_df[['sepal.length']] #see just one column as a series\n",
    "iris_df[['petal.length','petal.width']] #dataframe of a subset of columns\n",
    "\n",
    "#By rows/cells\n",
    "iris_df['variety'][0] #access a particular cell, in this case the first cell in the variety column\n",
    "iris_df[0:1] #creates a slice of the dataframe to display selected rows starting_index:ending_index where the ending index is not displayed\n",
    "iris_df['variety'][0:3] # can use slices to view cells in a particular column\n",
    "\n",
    "\n",
    "iris_df #the actions above do not change the original dataframe"
   ]
  },
  {
   "cell_type": "markdown",
   "metadata": {},
   "source": [
    "### Previewing the data frame"
   ]
  },
  {
   "cell_type": "code",
   "execution_count": null,
   "metadata": {},
   "outputs": [],
   "source": [
    "iris_df.info() #data types and number of non-null values\n",
    "iris_df.describe() #summary statistics of numeric columns\n",
    "iris_df['variety'].value_counts() #count of each value. Can be used for the full dataframe, but often more useful to look at one column at a time"
   ]
  },
  {
   "cell_type": "markdown",
   "metadata": {},
   "source": [
    "### Looking at summary statistics by variety"
   ]
  },
  {
   "cell_type": "code",
   "execution_count": null,
   "metadata": {},
   "outputs": [],
   "source": [
    "iris_df[iris_df['variety']=='Setosa'].describe() #this returns summary statistics only on those rows where the variety is setosa\n",
    "iris_df[iris_df['variety']=='Versicolor'].describe() \n",
    "iris_df[iris_df['variety']=='Virginica'].describe() "
   ]
  },
  {
   "cell_type": "markdown",
   "metadata": {},
   "source": [
    "### Additional examples of functions that can be used to explore data"
   ]
  },
  {
   "cell_type": "code",
   "execution_count": null,
   "metadata": {},
   "outputs": [],
   "source": [
    "iris_df[(iris_df['variety']=='Virginica') & (iris_df['petal.width']>2.3)] #example of filtering on multiple conditions\n",
    "iris_df.sort_values('sepal.width', ascending=False) #sorts by values in the specified column. By default the order is low to high, but you can reverse that with the ascending = False parameter.\n",
    "iris_df.sort_values(by=['sepal.width','sepal.length']) #how to sort by multiple columns at a time"
   ]
  }
 ],
 "metadata": {
  "kernelspec": {
   "display_name": "csprimers",
   "language": "python",
   "name": "python3"
  },
  "language_info": {
   "codemirror_mode": {
    "name": "ipython",
    "version": 3
   },
   "file_extension": ".py",
   "mimetype": "text/x-python",
   "name": "python",
   "nbconvert_exporter": "python",
   "pygments_lexer": "ipython3",
   "version": "3.9.6"
  }
 },
 "nbformat": 4,
 "nbformat_minor": 2
}
